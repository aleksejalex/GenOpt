{
 "cells": [
  {
   "cell_type": "code",
   "execution_count": 4,
   "id": "b5b05862-8ad3-4367-a038-7627ea0239ca",
   "metadata": {},
   "outputs": [],
   "source": [
    "\"\"\"\n",
    "many runs of simulation to collect stats\n",
    "\"\"\"\n",
    "\n",
    "import mygo as mg\n",
    "import rastrigin_fction as rf\n",
    "import numpy as np\n",
    "import pandas as pd"
   ]
  },
  {
   "cell_type": "code",
   "execution_count": 5,
   "id": "7bbe4858-fe9a-4978-93af-19986040be44",
   "metadata": {},
   "outputs": [],
   "source": [
    "def simulation(N=7, n_iter=500, p_cross=0.5, p_mut=0.8, mut_step=0.01):\n",
    "    \"\"\"\n",
    "\n",
    "    :param N: how many elements are in a population (in each time)\n",
    "    :param n_iter: number of iterations of GO\n",
    "    :param p_cross:\n",
    "    :param p_mut:\n",
    "    :param mut_step:\n",
    "    :return: value of minimum\n",
    "    \"\"\"\n",
    "    # generating starting population\n",
    "    popul = mg.generate_population(num_of_elements=N, length_of_element=2, population_type='float', min_value=-5,\n",
    "                                   max_value=5)\n",
    "\n",
    "    for j in range(n_iter):\n",
    "        hypopul = mg.generate_hyperpopulation(popul, criteria_for_sorting=rf.rastrigin_taking_2d_list, num_of_iter=10,\n",
    "                                              prob_crossover=p_cross, p_mut=p_mut, mutation_step=mut_step)\n",
    "        trimedpopul = mg.trim_hyperpopulation(hypopul, num_of_elements=N)\n",
    "        popul = trimedpopul\n",
    "\n",
    "    return rf.rastrigin_taking_2d_list(popul[0])"
   ]
  },
  {
   "cell_type": "code",
   "execution_count": 6,
   "id": "4d4a6423-073c-462c-a778-2df4f2eba2b9",
   "metadata": {},
   "outputs": [
    {
     "name": "stdout",
     "output_type": "stream",
     "text": [
      "[0.00991879 0.00991879 0.00991879 0.00991879 0.00991879 0.00991879\n",
      " 0.00991879 0.00991879 0.00991879 0.00991879 0.00991879 0.00991879\n",
      " 0.00991879 0.00991879 0.00991879 0.00991879 0.00991879 0.00991879\n",
      " 0.00991879 0.00991879 0.00991879 0.00991879 0.00991879 0.00991879\n",
      " 0.00991879 0.00991879 0.00991879 0.00991879 0.00991879 0.00991879\n",
      " 0.00991879 0.00991879 0.00991879 0.00991879 0.00991879 0.00991879\n",
      " 0.00991879 0.00991879 0.00991879 0.00991879 0.00991879 0.00991879\n",
      " 0.00991879 0.00991879 0.00991879 0.00991879 0.00991879 0.00991879\n",
      " 0.00991879 0.00991879 0.00991879 0.00991879 0.00991879 0.00991879\n",
      " 0.00991879 0.00991879 0.00991879 0.00991879 0.00991879 0.00991879\n",
      " 0.00991879 0.00991879 0.00991879 0.00991879 0.00991879 0.00991879\n",
      " 0.00991879 0.00991879 0.00991879 0.00991879 0.00991879 0.00991879\n",
      " 0.00991879 0.00991879 0.00991879 0.00991879 0.00991879 0.00991879\n",
      " 0.00991879 0.00991879 0.00991879 0.00991879 0.00991879 0.00991879\n",
      " 0.00991879 0.00991879 0.00991879 0.00991879 0.00991879 0.00991879\n",
      " 0.00991879 0.00991879 0.00991879 0.00991879 0.00991879 0.00991879\n",
      " 0.00991879 0.00991879 0.00991879 0.00991879]\n",
      "0.009918792685368771\n"
     ]
    }
   ],
   "source": [
    "if __name__ == '__main__':\n",
    "    results = []\n",
    "    for _ in range(100):\n",
    "        results.append(simulation(N=7, n_iter=900))\n",
    "    r = np.array(results)\n",
    "    print(r)\n",
    "    print(r.mean())"
   ]
  },
  {
   "cell_type": "code",
   "execution_count": 7,
   "id": "b35b70ae-2e29-4d76-b301-a81ba9b0d56a",
   "metadata": {},
   "outputs": [
    {
     "name": "stdout",
     "output_type": "stream",
     "text": [
      "Variable     Type        Data/Info\n",
      "----------------------------------\n",
      "mg           module      <module 'mygo' from 'C:\\\\<...>-pancake\\\\code\\\\mygo.py'>\n",
      "np           module      <module 'numpy' from 'C:\\<...>ges\\\\numpy\\\\__init__.py'>\n",
      "pd           module      <module 'pandas' from 'C:<...>es\\\\pandas\\\\__init__.py'>\n",
      "r            ndarray     100: 100 elems, type `float64`, 800 bytes\n",
      "results      list        n=100\n",
      "rf           module      <module 'rastrigin_fction<...>de\\\\rastrigin_fction.py'>\n",
      "simulation   function    <function simulation at 0x0000022BBC0D0C20>\n"
     ]
    }
   ],
   "source": [
    "whos"
   ]
  },
  {
   "cell_type": "code",
   "execution_count": null,
   "id": "59c62bc2-710c-43f4-9042-5ad7659457a5",
   "metadata": {},
   "outputs": [],
   "source": []
  },
  {
   "cell_type": "code",
   "execution_count": null,
   "id": "f364a85a-bae3-4732-b328-08c3c5828add",
   "metadata": {},
   "outputs": [],
   "source": []
  },
  {
   "cell_type": "code",
   "execution_count": null,
   "id": "cdd58bee-0838-4f3a-84a9-87bcddcec207",
   "metadata": {},
   "outputs": [],
   "source": []
  },
  {
   "cell_type": "code",
   "execution_count": 158,
   "id": "c652b0f5-5b6f-4ccd-843e-5aa5b3800c05",
   "metadata": {},
   "outputs": [],
   "source": [
    "df = pd.DataFrame(columns = ['N', 'n_iter', 'p_mut', 'p_cross', 'mut_step', 'min'])"
   ]
  },
  {
   "cell_type": "code",
   "execution_count": 159,
   "id": "6684a319-be78-4fcf-84c0-23b5bb645d48",
   "metadata": {},
   "outputs": [
    {
     "data": {
      "text/html": [
       "<div>\n",
       "<style scoped>\n",
       "    .dataframe tbody tr th:only-of-type {\n",
       "        vertical-align: middle;\n",
       "    }\n",
       "\n",
       "    .dataframe tbody tr th {\n",
       "        vertical-align: top;\n",
       "    }\n",
       "\n",
       "    .dataframe thead th {\n",
       "        text-align: right;\n",
       "    }\n",
       "</style>\n",
       "<table border=\"1\" class=\"dataframe\">\n",
       "  <thead>\n",
       "    <tr style=\"text-align: right;\">\n",
       "      <th></th>\n",
       "      <th>N</th>\n",
       "      <th>n_iter</th>\n",
       "      <th>p_mut</th>\n",
       "      <th>p_cross</th>\n",
       "      <th>mut_step</th>\n",
       "      <th>min</th>\n",
       "    </tr>\n",
       "  </thead>\n",
       "  <tbody>\n",
       "  </tbody>\n",
       "</table>\n",
       "</div>"
      ],
      "text/plain": [
       "Empty DataFrame\n",
       "Columns: [N, n_iter, p_mut, p_cross, mut_step, min]\n",
       "Index: []"
      ]
     },
     "execution_count": 159,
     "metadata": {},
     "output_type": "execute_result"
    }
   ],
   "source": [
    "df.head()"
   ]
  },
  {
   "cell_type": "code",
   "execution_count": 160,
   "id": "f2f49368-8876-469a-bad7-6b71af24468f",
   "metadata": {},
   "outputs": [],
   "source": [
    "N = 7\n",
    "n_iter = 500\n",
    "p_mut = 0.8\n",
    "p_cross = 0.0\n",
    "mut_step = 0.01"
   ]
  },
  {
   "cell_type": "code",
   "execution_count": 161,
   "id": "0245e70b-9640-4554-b099-e971f06500b3",
   "metadata": {},
   "outputs": [],
   "source": [
    "min = simulation(N, n_iter, p_cross, p_mut, mut_step)"
   ]
  },
  {
   "cell_type": "code",
   "execution_count": 162,
   "id": "ffb96f3c-7208-42ba-9313-28e75bb40a78",
   "metadata": {},
   "outputs": [],
   "source": [
    "for _ in range(1000):\n",
    "    min = simulation(N, n_iter, p_cross, p_mut, mut_step)\n",
    "    # Create a new row as a dictionary\n",
    "    new_row = {'N': N, 'n_iter': n_iter, 'p_mut': p_mut, 'p_cross': p_cross, 'mut_step': mut_step, 'min': min}\n",
    "    # Add the new row to the DataFrame\n",
    "    df.loc[len(df)] = new_row"
   ]
  },
  {
   "cell_type": "code",
   "execution_count": 163,
   "id": "b3157924-bdf8-4f27-b668-a28cb7327e9a",
   "metadata": {},
   "outputs": [
    {
     "data": {
      "text/html": [
       "<div>\n",
       "<style scoped>\n",
       "    .dataframe tbody tr th:only-of-type {\n",
       "        vertical-align: middle;\n",
       "    }\n",
       "\n",
       "    .dataframe tbody tr th {\n",
       "        vertical-align: top;\n",
       "    }\n",
       "\n",
       "    .dataframe thead th {\n",
       "        text-align: right;\n",
       "    }\n",
       "</style>\n",
       "<table border=\"1\" class=\"dataframe\">\n",
       "  <thead>\n",
       "    <tr style=\"text-align: right;\">\n",
       "      <th></th>\n",
       "      <th>N</th>\n",
       "      <th>n_iter</th>\n",
       "      <th>p_mut</th>\n",
       "      <th>p_cross</th>\n",
       "      <th>mut_step</th>\n",
       "      <th>min</th>\n",
       "    </tr>\n",
       "  </thead>\n",
       "  <tbody>\n",
       "    <tr>\n",
       "      <th>0</th>\n",
       "      <td>7</td>\n",
       "      <td>500</td>\n",
       "      <td>0.8</td>\n",
       "      <td>0.0</td>\n",
       "      <td>0.01</td>\n",
       "      <td>0.009919</td>\n",
       "    </tr>\n",
       "    <tr>\n",
       "      <th>1</th>\n",
       "      <td>7</td>\n",
       "      <td>500</td>\n",
       "      <td>0.8</td>\n",
       "      <td>0.0</td>\n",
       "      <td>0.01</td>\n",
       "      <td>0.009919</td>\n",
       "    </tr>\n",
       "    <tr>\n",
       "      <th>2</th>\n",
       "      <td>7</td>\n",
       "      <td>500</td>\n",
       "      <td>0.8</td>\n",
       "      <td>0.0</td>\n",
       "      <td>0.01</td>\n",
       "      <td>0.009546</td>\n",
       "    </tr>\n",
       "    <tr>\n",
       "      <th>3</th>\n",
       "      <td>7</td>\n",
       "      <td>500</td>\n",
       "      <td>0.8</td>\n",
       "      <td>0.0</td>\n",
       "      <td>0.01</td>\n",
       "      <td>0.009919</td>\n",
       "    </tr>\n",
       "    <tr>\n",
       "      <th>4</th>\n",
       "      <td>7</td>\n",
       "      <td>500</td>\n",
       "      <td>0.8</td>\n",
       "      <td>0.0</td>\n",
       "      <td>0.01</td>\n",
       "      <td>0.009919</td>\n",
       "    </tr>\n",
       "    <tr>\n",
       "      <th>...</th>\n",
       "      <td>...</td>\n",
       "      <td>...</td>\n",
       "      <td>...</td>\n",
       "      <td>...</td>\n",
       "      <td>...</td>\n",
       "      <td>...</td>\n",
       "    </tr>\n",
       "    <tr>\n",
       "      <th>995</th>\n",
       "      <td>7</td>\n",
       "      <td>500</td>\n",
       "      <td>0.8</td>\n",
       "      <td>0.0</td>\n",
       "      <td>0.01</td>\n",
       "      <td>0.009919</td>\n",
       "    </tr>\n",
       "    <tr>\n",
       "      <th>996</th>\n",
       "      <td>7</td>\n",
       "      <td>500</td>\n",
       "      <td>0.8</td>\n",
       "      <td>0.0</td>\n",
       "      <td>0.01</td>\n",
       "      <td>0.983687</td>\n",
       "    </tr>\n",
       "    <tr>\n",
       "      <th>997</th>\n",
       "      <td>7</td>\n",
       "      <td>500</td>\n",
       "      <td>0.8</td>\n",
       "      <td>0.0</td>\n",
       "      <td>0.01</td>\n",
       "      <td>26.998677</td>\n",
       "    </tr>\n",
       "    <tr>\n",
       "      <th>998</th>\n",
       "      <td>7</td>\n",
       "      <td>500</td>\n",
       "      <td>0.8</td>\n",
       "      <td>0.0</td>\n",
       "      <td>0.01</td>\n",
       "      <td>0.009919</td>\n",
       "    </tr>\n",
       "    <tr>\n",
       "      <th>999</th>\n",
       "      <td>7</td>\n",
       "      <td>500</td>\n",
       "      <td>0.8</td>\n",
       "      <td>0.0</td>\n",
       "      <td>0.01</td>\n",
       "      <td>0.009919</td>\n",
       "    </tr>\n",
       "  </tbody>\n",
       "</table>\n",
       "<p>1000 rows × 6 columns</p>\n",
       "</div>"
      ],
      "text/plain": [
       "     N  n_iter  p_mut  p_cross  mut_step        min\n",
       "0    7     500    0.8      0.0      0.01   0.009919\n",
       "1    7     500    0.8      0.0      0.01   0.009919\n",
       "2    7     500    0.8      0.0      0.01   0.009546\n",
       "3    7     500    0.8      0.0      0.01   0.009919\n",
       "4    7     500    0.8      0.0      0.01   0.009919\n",
       "..  ..     ...    ...      ...       ...        ...\n",
       "995  7     500    0.8      0.0      0.01   0.009919\n",
       "996  7     500    0.8      0.0      0.01   0.983687\n",
       "997  7     500    0.8      0.0      0.01  26.998677\n",
       "998  7     500    0.8      0.0      0.01   0.009919\n",
       "999  7     500    0.8      0.0      0.01   0.009919\n",
       "\n",
       "[1000 rows x 6 columns]"
      ]
     },
     "execution_count": 163,
     "metadata": {},
     "output_type": "execute_result"
    }
   ],
   "source": [
    "df"
   ]
  },
  {
   "cell_type": "code",
   "execution_count": 164,
   "id": "72cd58a3-6011-4e31-bfd9-399c814aa076",
   "metadata": {},
   "outputs": [
    {
     "data": {
      "text/html": [
       "<div>\n",
       "<style scoped>\n",
       "    .dataframe tbody tr th:only-of-type {\n",
       "        vertical-align: middle;\n",
       "    }\n",
       "\n",
       "    .dataframe tbody tr th {\n",
       "        vertical-align: top;\n",
       "    }\n",
       "\n",
       "    .dataframe thead th {\n",
       "        text-align: right;\n",
       "    }\n",
       "</style>\n",
       "<table border=\"1\" class=\"dataframe\">\n",
       "  <thead>\n",
       "    <tr style=\"text-align: right;\">\n",
       "      <th></th>\n",
       "      <th>N</th>\n",
       "      <th>n_iter</th>\n",
       "      <th>p_mut</th>\n",
       "      <th>p_cross</th>\n",
       "      <th>mut_step</th>\n",
       "      <th>min</th>\n",
       "    </tr>\n",
       "  </thead>\n",
       "  <tbody>\n",
       "    <tr>\n",
       "      <th>count</th>\n",
       "      <td>1000.0</td>\n",
       "      <td>1000.0</td>\n",
       "      <td>1.000000e+03</td>\n",
       "      <td>1000.0</td>\n",
       "      <td>1000.00</td>\n",
       "      <td>1000.000000</td>\n",
       "    </tr>\n",
       "    <tr>\n",
       "      <th>mean</th>\n",
       "      <td>7.0</td>\n",
       "      <td>500.0</td>\n",
       "      <td>8.000000e-01</td>\n",
       "      <td>0.0</td>\n",
       "      <td>0.01</td>\n",
       "      <td>1.221888</td>\n",
       "    </tr>\n",
       "    <tr>\n",
       "      <th>std</th>\n",
       "      <td>0.0</td>\n",
       "      <td>0.0</td>\n",
       "      <td>1.110779e-16</td>\n",
       "      <td>0.0</td>\n",
       "      <td>0.00</td>\n",
       "      <td>4.237270</td>\n",
       "    </tr>\n",
       "    <tr>\n",
       "      <th>min</th>\n",
       "      <td>7.0</td>\n",
       "      <td>500.0</td>\n",
       "      <td>8.000000e-01</td>\n",
       "      <td>0.0</td>\n",
       "      <td>0.01</td>\n",
       "      <td>0.005773</td>\n",
       "    </tr>\n",
       "    <tr>\n",
       "      <th>25%</th>\n",
       "      <td>7.0</td>\n",
       "      <td>500.0</td>\n",
       "      <td>8.000000e-01</td>\n",
       "      <td>0.0</td>\n",
       "      <td>0.01</td>\n",
       "      <td>0.009919</td>\n",
       "    </tr>\n",
       "    <tr>\n",
       "      <th>50%</th>\n",
       "      <td>7.0</td>\n",
       "      <td>500.0</td>\n",
       "      <td>8.000000e-01</td>\n",
       "      <td>0.0</td>\n",
       "      <td>0.01</td>\n",
       "      <td>0.009919</td>\n",
       "    </tr>\n",
       "    <tr>\n",
       "      <th>75%</th>\n",
       "      <td>7.0</td>\n",
       "      <td>500.0</td>\n",
       "      <td>8.000000e-01</td>\n",
       "      <td>0.0</td>\n",
       "      <td>0.01</td>\n",
       "      <td>0.010506</td>\n",
       "    </tr>\n",
       "    <tr>\n",
       "      <th>max</th>\n",
       "      <td>7.0</td>\n",
       "      <td>500.0</td>\n",
       "      <td>8.000000e-01</td>\n",
       "      <td>0.0</td>\n",
       "      <td>0.01</td>\n",
       "      <td>36.683016</td>\n",
       "    </tr>\n",
       "  </tbody>\n",
       "</table>\n",
       "</div>"
      ],
      "text/plain": [
       "            N  n_iter         p_mut  p_cross  mut_step          min\n",
       "count  1000.0  1000.0  1.000000e+03   1000.0   1000.00  1000.000000\n",
       "mean      7.0   500.0  8.000000e-01      0.0      0.01     1.221888\n",
       "std       0.0     0.0  1.110779e-16      0.0      0.00     4.237270\n",
       "min       7.0   500.0  8.000000e-01      0.0      0.01     0.005773\n",
       "25%       7.0   500.0  8.000000e-01      0.0      0.01     0.009919\n",
       "50%       7.0   500.0  8.000000e-01      0.0      0.01     0.009919\n",
       "75%       7.0   500.0  8.000000e-01      0.0      0.01     0.010506\n",
       "max       7.0   500.0  8.000000e-01      0.0      0.01    36.683016"
      ]
     },
     "execution_count": 164,
     "metadata": {},
     "output_type": "execute_result"
    }
   ],
   "source": [
    "df.describe()"
   ]
  },
  {
   "cell_type": "code",
   "execution_count": 165,
   "id": "30e5e23b-555e-43e8-914b-5c9d815f3fea",
   "metadata": {},
   "outputs": [
    {
     "name": "stdout",
     "output_type": "stream",
     "text": [
      "\\begin{tabular}{lrrrrrr}\n",
      "\\toprule\n",
      " & N & n_iter & p_mut & p_cross & mut_step & min \\\\\n",
      "\\midrule\n",
      "count & 1000.000000 & 1000.000000 & 1000.000000 & 1000.000000 & 1000.000000 & 1000.000000 \\\\\n",
      "mean & 7.000000 & 500.000000 & 0.800000 & 0.000000 & 0.010000 & 1.221888 \\\\\n",
      "std & 0.000000 & 0.000000 & 0.000000 & 0.000000 & 0.000000 & 4.237270 \\\\\n",
      "min & 7.000000 & 500.000000 & 0.800000 & 0.000000 & 0.010000 & 0.005773 \\\\\n",
      "25% & 7.000000 & 500.000000 & 0.800000 & 0.000000 & 0.010000 & 0.009919 \\\\\n",
      "50% & 7.000000 & 500.000000 & 0.800000 & 0.000000 & 0.010000 & 0.009919 \\\\\n",
      "75% & 7.000000 & 500.000000 & 0.800000 & 0.000000 & 0.010000 & 0.010506 \\\\\n",
      "max & 7.000000 & 500.000000 & 0.800000 & 0.000000 & 0.010000 & 36.683016 \\\\\n",
      "\\bottomrule\n",
      "\\end{tabular}\n",
      "\n"
     ]
    }
   ],
   "source": [
    "str = df.describe().to_latex()\n",
    "print(str)"
   ]
  },
  {
   "cell_type": "code",
   "execution_count": 166,
   "id": "41fd05ca-a724-4beb-b69f-c62bf7f33b19",
   "metadata": {},
   "outputs": [
    {
     "name": "stdout",
     "output_type": "stream",
     "text": [
      "\\begin{tabular}{lrrrrrr}\n",
      "\\toprule\n",
      " & N & n_iter & p_mut & p_cross & mut_step & min \\\\\n",
      "\\midrule\n",
      "0 & 7 & 500 & 0.800000 & 0.000000 & 0.010000 & 0.009919 \\\\\n",
      "1 & 7 & 500 & 0.800000 & 0.000000 & 0.010000 & 0.009919 \\\\\n",
      "2 & 7 & 500 & 0.800000 & 0.000000 & 0.010000 & 0.009546 \\\\\n",
      "3 & 7 & 500 & 0.800000 & 0.000000 & 0.010000 & 0.009919 \\\\\n",
      "4 & 7 & 500 & 0.800000 & 0.000000 & 0.010000 & 0.009919 \\\\\n",
      "5 & 7 & 500 & 0.800000 & 0.000000 & 0.010000 & 0.009919 \\\\\n",
      "6 & 7 & 500 & 0.800000 & 0.000000 & 0.010000 & 0.009919 \\\\\n",
      "\\bottomrule\n",
      "\\end{tabular}\n",
      "\n"
     ]
    }
   ],
   "source": [
    "str2 = df.head(7).to_latex()\n",
    "print(str2)"
   ]
  },
  {
   "cell_type": "code",
   "execution_count": null,
   "id": "3955e89e-b815-472e-8602-19581ce5d199",
   "metadata": {},
   "outputs": [],
   "source": []
  },
  {
   "cell_type": "code",
   "execution_count": null,
   "id": "2629b3cc-0e8e-4feb-b675-915cf474fa87",
   "metadata": {},
   "outputs": [],
   "source": []
  },
  {
   "cell_type": "code",
   "execution_count": null,
   "id": "f96952a6-61a2-4a89-b091-401ded483dc7",
   "metadata": {},
   "outputs": [],
   "source": []
  },
  {
   "cell_type": "code",
   "execution_count": 100,
   "id": "9411d4b9-b6c5-4b24-b3a4-ebf6417ad861",
   "metadata": {},
   "outputs": [],
   "source": [
    "del(df)"
   ]
  },
  {
   "cell_type": "code",
   "execution_count": 42,
   "id": "11b397fd-74d2-4ab2-b4a4-a67f3f13eb19",
   "metadata": {},
   "outputs": [
    {
     "ename": "NameError",
     "evalue": "name 'df' is not defined",
     "output_type": "error",
     "traceback": [
      "\u001b[1;31m---------------------------------------------------------------------------\u001b[0m",
      "\u001b[1;31mNameError\u001b[0m                                 Traceback (most recent call last)",
      "Cell \u001b[1;32mIn[42], line 1\u001b[0m\n\u001b[1;32m----> 1\u001b[0m \u001b[43mdf\u001b[49m\n",
      "\u001b[1;31mNameError\u001b[0m: name 'df' is not defined"
     ]
    }
   ],
   "source": [
    "df"
   ]
  },
  {
   "cell_type": "code",
   "execution_count": null,
   "id": "df79bd49-41e0-4675-bed8-7a3cbb14a3ec",
   "metadata": {},
   "outputs": [],
   "source": []
  },
  {
   "cell_type": "code",
   "execution_count": null,
   "id": "ac5bdce1-338d-4edf-b4e4-d7bd02033ac8",
   "metadata": {},
   "outputs": [],
   "source": []
  },
  {
   "cell_type": "code",
   "execution_count": null,
   "id": "fa24b1d4-1d89-4d63-a58d-86bdd55213dc",
   "metadata": {},
   "outputs": [],
   "source": []
  },
  {
   "cell_type": "code",
   "execution_count": null,
   "id": "dd3bd153-09cd-4558-a487-8c4e73bfe50a",
   "metadata": {},
   "outputs": [],
   "source": []
  },
  {
   "cell_type": "code",
   "execution_count": null,
   "id": "3b42b8b8-e407-4a36-93dc-8bd47f5a7936",
   "metadata": {},
   "outputs": [],
   "source": []
  },
  {
   "cell_type": "code",
   "execution_count": null,
   "id": "306d19a5-88ad-49e8-a68d-bc16207a166d",
   "metadata": {},
   "outputs": [],
   "source": []
  }
 ],
 "metadata": {
  "kernelspec": {
   "display_name": "Python 3 (ipykernel)",
   "language": "python",
   "name": "python3"
  },
  "language_info": {
   "codemirror_mode": {
    "name": "ipython",
    "version": 3
   },
   "file_extension": ".py",
   "mimetype": "text/x-python",
   "name": "python",
   "nbconvert_exporter": "python",
   "pygments_lexer": "ipython3",
   "version": "3.11.2"
  }
 },
 "nbformat": 4,
 "nbformat_minor": 5
}
